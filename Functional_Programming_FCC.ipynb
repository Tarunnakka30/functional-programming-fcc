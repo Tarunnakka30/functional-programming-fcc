{
  "nbformat": 4,
  "nbformat_minor": 0,
  "metadata": {
    "colab": {
      "provenance": [],
      "authorship_tag": "ABX9TyOOQ1tO8ozQWEi77zYHN4ZN",
      "include_colab_link": true
    },
    "kernelspec": {
      "name": "python3",
      "display_name": "Python 3"
    },
    "language_info": {
      "name": "python"
    }
  },
  "cells": [
    {
      "cell_type": "markdown",
      "metadata": {
        "id": "view-in-github",
        "colab_type": "text"
      },
      "source": [
        "<a href=\"https://colab.research.google.com/github/Tarunnakka30/functional-programming-fcc/blob/main/Functional_Programming_FCC.ipynb\" target=\"_parent\"><img src=\"https://colab.research.google.com/assets/colab-badge.svg\" alt=\"Open In Colab\"/></a>"
      ]
    },
    {
      "cell_type": "markdown",
      "source": [
        "# Learn About Functional Programming\n",
        "Functional programming is a style of programming where solutions are simple, isolated functions, without any side effects outside of the function scope: INPUT -> PROCESS -> OUTPUT\n",
        "\n",
        "Functional programming is about:\n",
        "\n",
        "Isolated functions - there is no dependence on the state of the program, which includes global variables that are subject to change\n",
        "\n",
        "Pure functions - the same input always gives the same output\n",
        "\n",
        "Functions with limited side effects - any changes, or mutations, to the state of the program outside the function are carefully controlled\n",
        "\n",
        "The members of freeCodeCamp happen to love tea.\n",
        "\n",
        "In the code editor, the prepareTea and getTea functions are already defined for you. Call the getTea function to get 40 cups of tea for the team, and store them in the tea4TeamFCC variable."
      ],
      "metadata": {
        "id": "ijtrmBTcM3r9"
      }
    },
    {
      "cell_type": "code",
      "source": [
        "// Function that returns a string representing a cup of green tea\n",
        "const prepareTea = () => 'greenTea';\n",
        "\n",
        "/*\n",
        "Given a function (representing the tea type) and number of cups needed, the\n",
        "following function returns an array of strings (each representing a cup of\n",
        "a specific type of tea).\n",
        "*/\n",
        "const getTea = (numOfCups) => {\n",
        "  const teaCups = [];\n",
        "\n",
        "  for(let cups = 1; cups <= numOfCups; cups += 1) {\n",
        "    const teaCup = prepareTea();\n",
        "    teaCups.push(teaCup);\n",
        "  }\n",
        "  return teaCups;\n",
        "};\n",
        "\n",
        "// Only change code below this line\n",
        "const tea4TeamFCC = getTea(40);\n",
        "// Only change code above this line\n",
        "console.log(tea4TeamFCC)"
      ],
      "metadata": {
        "id": "NCthPPLSM7iQ"
      },
      "execution_count": null,
      "outputs": []
    },
    {
      "cell_type": "markdown",
      "source": [
        "# Understand Functional Programming Terminology\n",
        "The FCC Team had a mood swing and now wants two types of tea: green tea and black tea. General Fact: Client mood swings are pretty common.\n",
        "\n",
        "With that information, we'll need to revisit the getTea function from last challenge to handle various tea requests. We can modify getTea to accept a function as a parameter to be able to change the type of tea it prepares. This makes getTea more flexible, and gives the programmer more control when client requests change.\n",
        "\n",
        "But first, let's cover some functional terminology:\n",
        "\n",
        "Callbacks are the functions that are slipped or passed into another function to decide the invocation of that function. You may have seen them passed to other methods, for example in filter, the callback function tells JavaScript the criteria for how to filter an array.\n",
        "\n",
        "Functions that can be assigned to a variable, passed into another function, or returned from another function just like any other normal value, are called first class functions. In JavaScript, all functions are first class functions.\n",
        "\n",
        "The functions that take a function as an argument, or return a function as a return value, are called higher order functions.\n",
        "\n",
        "When functions are passed in to or returned from another function, then those functions which were passed in or returned can be called a lambda.\n",
        "\n",
        "Prepare 27 cups of green tea and 13 cups of black tea and store them in tea4GreenTeamFCC and tea4BlackTeamFCC variables, respectively. Note that the getTea function has been modified so it now takes a function as the first argument.\n",
        "\n",
        "Note: The data (the number of cups of tea) is supplied as the last argument. We'll discuss this more in later lessons."
      ],
      "metadata": {
        "id": "s4dG7FB6M9v4"
      }
    },
    {
      "cell_type": "code",
      "source": [
        "// Function that returns a string representing a cup of green tea\n",
        "const prepareGreenTea = () => 'greenTea';\n",
        "\n",
        "// Function that returns a string representing a cup of black tea\n",
        "const prepareBlackTea = () => 'blackTea';\n",
        "\n",
        "/*\n",
        "Given a function (representing the tea type) and number of cups needed, the\n",
        "following function returns an array of strings (each representing a cup of\n",
        "a specific type of tea).\n",
        "*/\n",
        "const getTea = (prepareTea, numOfCups) => {\n",
        "  const teaCups = [];\n",
        "\n",
        "  for(let cups = 1; cups <= numOfCups; cups += 1) {\n",
        "    const teaCup = prepareTea();\n",
        "    teaCups.push(teaCup);\n",
        "  }\n",
        "  return teaCups;\n",
        "};\n",
        "\n",
        "// Only change code below this line\n",
        "const tea4GreenTeamFCC = getTea(prepareGreenTea,27);\n",
        "const tea4BlackTeamFCC = getTea(prepareBlackTea,13);\n",
        "// Only change code above this line\n",
        "\n",
        "console.log(\n",
        "  tea4GreenTeamFCC,\n",
        "  tea4BlackTeamFCC\n",
        ");"
      ],
      "metadata": {
        "id": "gN4FjG_FN3ud"
      },
      "execution_count": null,
      "outputs": []
    },
    {
      "cell_type": "markdown",
      "source": [
        "# Understand the Hazards of Using Imperative Code\n",
        "Functional programming is a good habit. It keeps your code easy to manage, and saves you from sneaky bugs. But before we get there, let's look at an imperative approach to programming to highlight where you may have issues.\n",
        "\n",
        "In English (and many other languages), the imperative tense is used to give commands. Similarly, an imperative style in programming is one that gives the computer a set of statements to perform a task.\n",
        "\n",
        "Often the statements change the state of the program, like updating global variables. A classic example is writing a for loop that gives exact directions to iterate over the indices of an array.\n",
        "\n",
        "In contrast, functional programming is a form of declarative programming. You tell the computer what you want done by calling a method or function.\n",
        "\n",
        "JavaScript offers many predefined methods that handle common tasks so you don't need to write out how the computer should perform them. For example, instead of using the for loop mentioned above, you could call the map method which handles the details of iterating over an array. This helps to avoid semantic errors, like the \"Off By One Errors\" that were covered in the Debugging section.\n",
        "\n",
        "Consider the scenario: you are browsing the web in your browser, and want to track the tabs you have opened. Let's try to model this using some simple object-oriented code.\n",
        "\n",
        "A Window object is made up of tabs, and you usually have more than one Window open. The titles of each open site in each Window object is held in an array. After working in the browser (opening new tabs, merging windows, and closing tabs), you want to print the tabs that are still open. Closed tabs are removed from the array and new tabs (for simplicity) get added to the end of it.\n",
        "\n",
        "The code editor shows an implementation of this functionality with functions for tabOpen(), tabClose(), and join(). The array tabs is part of the Window object that stores the name of the open pages.\n",
        "\n",
        "Examine the code in the editor. It's using a method that has side effects in the program, causing incorrect behaviour. The final list of open tabs, stored in finalTabs.tabs, should be ['FB', 'Gitter', 'Reddit', 'Twitter', 'Medium', 'new tab', 'Netflix', 'YouTube', 'Vine', 'GMail', 'Work mail', 'Docs', 'freeCodeCamp', 'new tab'] but the list produced by the code is slightly different.\n",
        "\n",
        "Change Window.prototype.tabClose so that it removes the correct tab."
      ],
      "metadata": {
        "id": "U-zxoV70OAHV"
      }
    },
    {
      "cell_type": "code",
      "source": [
        "// tabs is an array of titles of each site open within the window\n",
        "const Window = function(tabs) {\n",
        "  this.tabs = tabs; // We keep a record of the array inside the object\n",
        "};\n",
        "\n",
        "// When you join two windows into one window\n",
        "Window.prototype.join = function(otherWindow) {\n",
        "  this.tabs = this.tabs.concat(otherWindow.tabs);\n",
        "  return this;\n",
        "};\n",
        "\n",
        "// When you open a new tab at the end\n",
        "Window.prototype.tabOpen = function(tab) {\n",
        "  this.tabs.push('new tab'); // Let's open a new tab for now\n",
        "  return this;\n",
        "};\n",
        "\n",
        "// When you close a tab\n",
        "Window.prototype.tabClose = function(index) {\n",
        "\n",
        "  // Only change code below this line\n",
        "\n",
        "  const tabsBeforeIndex = this.tabs.splice(0, index); // Get the tabs before the tab\n",
        "  const tabsAfterIndex = this.tabs.splice(1); // Get the tabs after the tab\n",
        "\n",
        "  this.tabs = tabsBeforeIndex.concat(tabsAfterIndex); // Join them together\n",
        "\n",
        "  // Only change code above this line\n",
        "\n",
        "  return this;\n",
        " };\n",
        "\n",
        "// Let's create three browser windows\n",
        "const workWindow = new Window(['GMail', 'Inbox', 'Work mail', 'Docs', 'freeCodeCamp']); // Your mailbox, drive, and other work sites\n",
        "const socialWindow = new Window(['FB', 'Gitter', 'Reddit', 'Twitter', 'Medium']); // Social sites\n",
        "const videoWindow = new Window(['Netflix', 'YouTube', 'Vimeo', 'Vine']); // Entertainment sites\n",
        "\n",
        "// Now perform the tab opening, closing, and other operations\n",
        "const finalTabs = socialWindow\n",
        "  .tabOpen() // Open a new tab for cat memes\n",
        "  .join(videoWindow.tabClose(2)) // Close third tab in video window, and join\n",
        "  .join(workWindow.tabClose(1).tabOpen());\n",
        "console.log(finalTabs.tabs);"
      ],
      "metadata": {
        "id": "wUcjxiIAROZv"
      },
      "execution_count": null,
      "outputs": []
    },
    {
      "cell_type": "markdown",
      "source": [
        "# Avoid Mutations and Side Effects Using Functional Programming\n",
        "If you haven't already figured it out, the issue in the previous challenge was with the splice call in the tabClose() function. Unfortunately, splice changes the original array it is called on, so the second call to it used a modified array, and gave unexpected results.\n",
        "\n",
        "This is a small example of a much larger pattern - you call a function on a variable, array, or an object, and the function changes the variable or something in the object.\n",
        "\n",
        "One of the core principles of functional programming is to not change things. Changes lead to bugs. It's easier to prevent bugs knowing that your functions don't change anything, including the function arguments or any global variable.\n",
        "\n",
        "The previous example didn't have any complicated operations but the splice method changed the original array, and resulted in a bug.\n",
        "\n",
        "Recall that in functional programming, changing or altering things is called mutation, and the outcome is called a side effect. A function, ideally, should be a pure function, meaning that it does not cause any side effects.\n",
        "\n",
        "Let's try to master this discipline and not alter any variable or object in our code.\n",
        "\n",
        "Fill in the code for the function incrementer so it returns the value of the global variable fixedValue increased by one."
      ],
      "metadata": {
        "id": "nvFdpsPdSLi_"
      }
    },
    {
      "cell_type": "code",
      "source": [
        "// The global variable\n",
        "let fixedValue = 4;\n",
        "\n",
        "function incrementer() {\n",
        "  // Only change code below this line\n",
        "  return fixedValue+1;\n",
        "\n",
        "  // Only change code above this line\n",
        "}\n",
        "\n",
        "console.log(fixedValue);\n",
        "console.log(incrementer(fixedValue));\n",
        "\n",
        "// 4\n",
        "   5"
      ],
      "metadata": {
        "id": "eWPAeNfXSOKM"
      },
      "execution_count": null,
      "outputs": []
    },
    {
      "cell_type": "markdown",
      "source": [
        "# Pass Arguments to Avoid External Dependence in a Function\n",
        "The last challenge was a step closer to functional programming principles, but there is still something missing.\n",
        "\n",
        "We didn't alter the global variable value, but the function incrementer would not work without the global variable fixedValue being there.\n",
        "\n",
        "Another principle of functional programming is to always declare your dependencies explicitly. This means if a function depends on a variable or object being present, then pass that variable or object directly into the function as an argument.\n",
        "\n",
        "There are several good consequences from this principle. The function is easier to test, you know exactly what input it takes, and it won't depend on anything else in your program.\n",
        "\n",
        "This can give you more confidence when you alter, remove, or add new code. You would know what you can or cannot change and you can see where the potential traps are.\n",
        "\n",
        "Finally, the function would always produce the same output for the same set of inputs, no matter what part of the code executes it.\n",
        "\n",
        "Let's update the incrementer function to clearly declare its dependencies.\n",
        "\n",
        "Write the incrementer function so it takes an argument, and then returns a result after increasing the value by one."
      ],
      "metadata": {
        "id": "lg3JJ-9-qiof"
      }
    },
    {
      "cell_type": "code",
      "source": [
        "// The global variable\n",
        "let fixedValue = 4;\n",
        "\n",
        "\n",
        "function incrementer(fixedValue) {\n",
        "    return fixedValue=+1;\n",
        "\n",
        "}"
      ],
      "metadata": {
        "id": "ErQVSUfSqpii"
      },
      "execution_count": null,
      "outputs": []
    },
    {
      "cell_type": "markdown",
      "source": [
        "# Refactor Global Variables Out of Functions\n",
        "So far, we have seen two distinct principles for functional programming:\n",
        "\n",
        "Don't alter a variable or object - create new variables and objects and return them if need be from a function. Hint: using something like const newArr = arrVar, where arrVar is an array will simply create a reference to the existing variable and not a copy. So changing a value in newArr would change the value in arrVar.\n",
        "\n",
        "Declare function parameters - any computation inside a function depends only on the arguments passed to the function, and not on any global object or variable.\n",
        "\n",
        "Adding one to a number is not very exciting, but we can apply these principles when working with arrays or more complex objects.\n",
        "\n",
        "Rewrite the code so the global array bookList is not changed inside either function. The add function should add the given bookName to the end of the array passed to it and return a new array (list). The remove function should remove the given bookName from the array passed to it.\n",
        "\n",
        "Note: Both functions should return an array, and any new parameters should be added before the bookName parameter."
      ],
      "metadata": {
        "id": "BhxNyweOqxv8"
      }
    },
    {
      "cell_type": "code",
      "source": [
        "// The global variable\n",
        "const bookList = [\"The Hound of the Baskervilles\", \"On The Electrodynamics of Moving Bodies\", \"Philosophiæ Naturalis Principia Mathematica\", \"Disquisitiones Arithmeticae\"];\n",
        "\n",
        "// Change code below this line\n",
        "function add(bookList,bookName) {\n",
        "  let newBl = [...bookList]\n",
        "  newBl.push(bookName);\n",
        "  return newBl;\n",
        "\n",
        "  // Change code above this line\n",
        "}\n",
        "\n",
        "// Change code below this line\n",
        "function remove(bookList,bookName) {\n",
        "  let newBl = [...bookList]\n",
        "  const book_index = newBl.indexOf(bookName);\n",
        "  if (book_index >= 0) {\n",
        "\n",
        "    newBl.splice(book_index, 1);\n",
        "    return newBl;\n",
        "\n",
        "    // Change code above this line\n",
        "    }\n",
        "}"
      ],
      "metadata": {
        "id": "j4g36a5TsG8d"
      },
      "execution_count": null,
      "outputs": []
    },
    {
      "cell_type": "markdown",
      "source": [
        "#Use the map Method to Extract Data from an Array\n",
        "So far we have learned to use pure functions to avoid side effects in a program. Also, we have seen the value in having a function only depend on its input arguments.\n",
        "\n",
        "This is only the beginning. As its name suggests, functional programming is centered around a theory of functions.\n",
        "\n",
        "It would make sense to be able to pass them as arguments to other functions, and return a function from another function. Functions are considered first class objects in JavaScript, which means they can be used like any other object. They can be saved in variables, stored in an object, or passed as function arguments.\n",
        "\n",
        "Let's start with some simple array functions, which are methods on the array object prototype. In this exercise we are looking at Array.prototype.map(), or more simply map.\n",
        "\n",
        "The map method iterates over each item in an array and returns a new array containing the results of calling the callback function on each element. It does this without mutating the original array.\n",
        "\n",
        "When the callback is used, it is passed three arguments. The first argument is the current element being processed. The second is the index of that element and the third is the array upon which the map method was called.\n",
        "\n",
        "See below for an example using the map method on the users array to return a new array containing only the names of the users as elements. For simplicity, the example only uses the first argument of the callback.\n",
        "\n",
        "const users = [\n",
        "  { name: 'John', age: 34 },\n",
        "  { name: 'Amy', age: 20 },\n",
        "  { name: 'camperCat', age: 10 }\n",
        "];\n",
        "\n",
        "const names = users.map(user => user.name);\n",
        "console.log(names);\n",
        "The console would display the value  [ 'John', 'Amy', 'camperCat' ].\n",
        "\n",
        "The watchList array holds objects with information on several movies. Use map on watchList to assign a new array of objects to the ratings variable. Each movie in the new array should have only a title key with the name of the film, and a rating key with the IMDB rating. The code in the editor currently uses a for loop to do this, so you should replace the loop functionality with your map expression."
      ],
      "metadata": {
        "id": "8JcyPWGrtug_"
      }
    },
    {
      "cell_type": "code",
      "source": [
        "// The global variable\n",
        "const watchList = [\n",
        "  {\n",
        "    \"Title\": \"Inception\",\n",
        "    \"Year\": \"2010\",\n",
        "    \"Rated\": \"PG-13\",\n",
        "    \"Released\": \"16 Jul 2010\",\n",
        "    \"Runtime\": \"148 min\",\n",
        "    \"Genre\": \"Action, Adventure, Crime\",\n",
        "    \"Director\": \"Christopher Nolan\",\n",
        "    \"Writer\": \"Christopher Nolan\",\n",
        "    \"Actors\": \"Leonardo DiCaprio, Joseph Gordon-Levitt, Elliot Page, Tom Hardy\",\n",
        "    \"Plot\": \"A thief, who steals corporate secrets through use of dream-sharing technology, is given the inverse task of planting an idea into the mind of a CEO.\",\n",
        "    \"Language\": \"English, Japanese, French\",\n",
        "    \"Country\": \"USA, UK\",\n",
        "    \"Awards\": \"Won 4 Oscars. Another 143 wins & 198 nominations.\",\n",
        "    \"Poster\": \"http://ia.media-imdb.com/images/M/MV5BMjAxMzY3NjcxNF5BMl5BanBnXkFtZTcwNTI5OTM0Mw@@._V1_SX300.jpg\",\n",
        "    \"Metascore\": \"74\",\n",
        "    \"imdbRating\": \"8.8\",\n",
        "    \"imdbVotes\": \"1,446,708\",\n",
        "    \"imdbID\": \"tt1375666\",\n",
        "    \"Type\": \"movie\",\n",
        "    \"Response\": \"True\"\n",
        "  },\n",
        "  {\n",
        "    \"Title\": \"Interstellar\",\n",
        "    \"Year\": \"2014\",\n",
        "    \"Rated\": \"PG-13\",\n",
        "    \"Released\": \"07 Nov 2014\",\n",
        "    \"Runtime\": \"169 min\",\n",
        "    \"Genre\": \"Adventure, Drama, Sci-Fi\",\n",
        "    \"Director\": \"Christopher Nolan\",\n",
        "    \"Writer\": \"Jonathan Nolan, Christopher Nolan\",\n",
        "    \"Actors\": \"Ellen Burstyn, Matthew McConaughey, Mackenzie Foy, John Lithgow\",\n",
        "    \"Plot\": \"A team of explorers travel through a wormhole in space in an attempt to ensure humanity's survival.\",\n",
        "    \"Language\": \"English\",\n",
        "    \"Country\": \"USA, UK\",\n",
        "    \"Awards\": \"Won 1 Oscar. Another 39 wins & 132 nominations.\",\n",
        "    \"Poster\": \"http://ia.media-imdb.com/images/M/MV5BMjIxNTU4MzY4MF5BMl5BanBnXkFtZTgwMzM4ODI3MjE@._V1_SX300.jpg\",\n",
        "    \"Metascore\": \"74\",\n",
        "    \"imdbRating\": \"8.6\",\n",
        "    \"imdbVotes\": \"910,366\",\n",
        "    \"imdbID\": \"tt0816692\",\n",
        "    \"Type\": \"movie\",\n",
        "    \"Response\": \"True\"\n",
        "  },\n",
        "  {\n",
        "    \"Title\": \"The Dark Knight\",\n",
        "    \"Year\": \"2008\",\n",
        "    \"Rated\": \"PG-13\",\n",
        "    \"Released\": \"18 Jul 2008\",\n",
        "    \"Runtime\": \"152 min\",\n",
        "    \"Genre\": \"Action, Adventure, Crime\",\n",
        "    \"Director\": \"Christopher Nolan\",\n",
        "    \"Writer\": \"Jonathan Nolan (screenplay), Christopher Nolan (screenplay), Christopher Nolan (story), David S. Goyer (story), Bob Kane (characters)\",\n",
        "    \"Actors\": \"Christian Bale, Heath Ledger, Aaron Eckhart, Michael Caine\",\n",
        "    \"Plot\": \"When the menace known as the Joker wreaks havoc and chaos on the people of Gotham, the caped crusader must come to terms with one of the greatest psychological tests of his ability to fight injustice.\",\n",
        "    \"Language\": \"English, Mandarin\",\n",
        "    \"Country\": \"USA, UK\",\n",
        "    \"Awards\": \"Won 2 Oscars. Another 146 wins & 142 nominations.\",\n",
        "    \"Poster\": \"http://ia.media-imdb.com/images/M/MV5BMTMxNTMwODM0NF5BMl5BanBnXkFtZTcwODAyMTk2Mw@@._V1_SX300.jpg\",\n",
        "    \"Metascore\": \"82\",\n",
        "    \"imdbRating\": \"9.0\",\n",
        "    \"imdbVotes\": \"1,652,832\",\n",
        "    \"imdbID\": \"tt0468569\",\n",
        "    \"Type\": \"movie\",\n",
        "    \"Response\": \"True\"\n",
        "  },\n",
        "  {\n",
        "    \"Title\": \"Batman Begins\",\n",
        "    \"Year\": \"2005\",\n",
        "    \"Rated\": \"PG-13\",\n",
        "    \"Released\": \"15 Jun 2005\",\n",
        "    \"Runtime\": \"140 min\",\n",
        "    \"Genre\": \"Action, Adventure\",\n",
        "    \"Director\": \"Christopher Nolan\",\n",
        "    \"Writer\": \"Bob Kane (characters), David S. Goyer (story), Christopher Nolan (screenplay), David S. Goyer (screenplay)\",\n",
        "    \"Actors\": \"Christian Bale, Michael Caine, Liam Neeson, Katie Holmes\",\n",
        "    \"Plot\": \"After training with his mentor, Batman begins his fight to free crime-ridden Gotham City from the corruption that Scarecrow and the League of Shadows have cast upon it.\",\n",
        "    \"Language\": \"English, Urdu, Mandarin\",\n",
        "    \"Country\": \"USA, UK\",\n",
        "    \"Awards\": \"Nominated for 1 Oscar. Another 15 wins & 66 nominations.\",\n",
        "    \"Poster\": \"http://ia.media-imdb.com/images/M/MV5BNTM3OTc0MzM2OV5BMl5BanBnXkFtZTYwNzUwMTI3._V1_SX300.jpg\",\n",
        "    \"Metascore\": \"70\",\n",
        "    \"imdbRating\": \"8.3\",\n",
        "    \"imdbVotes\": \"972,584\",\n",
        "    \"imdbID\": \"tt0372784\",\n",
        "    \"Type\": \"movie\",\n",
        "    \"Response\": \"True\"\n",
        "  },\n",
        "  {\n",
        "    \"Title\": \"Avatar\",\n",
        "    \"Year\": \"2009\",\n",
        "    \"Rated\": \"PG-13\",\n",
        "    \"Released\": \"18 Dec 2009\",\n",
        "    \"Runtime\": \"162 min\",\n",
        "    \"Genre\": \"Action, Adventure, Fantasy\",\n",
        "    \"Director\": \"James Cameron\",\n",
        "    \"Writer\": \"James Cameron\",\n",
        "    \"Actors\": \"Sam Worthington, Zoe Saldana, Sigourney Weaver, Stephen Lang\",\n",
        "    \"Plot\": \"A paraplegic marine dispatched to the moon Pandora on a unique mission becomes torn between following his orders and protecting the world he feels is his home.\",\n",
        "    \"Language\": \"English, Spanish\",\n",
        "    \"Country\": \"USA, UK\",\n",
        "    \"Awards\": \"Won 3 Oscars. Another 80 wins & 121 nominations.\",\n",
        "    \"Poster\": \"http://ia.media-imdb.com/images/M/MV5BMTYwOTEwNjAzMl5BMl5BanBnXkFtZTcwODc5MTUwMw@@._V1_SX300.jpg\",\n",
        "    \"Metascore\": \"83\",\n",
        "    \"imdbRating\": \"7.9\",\n",
        "    \"imdbVotes\": \"876,575\",\n",
        "    \"imdbID\": \"tt0499549\",\n",
        "    \"Type\": \"movie\",\n",
        "    \"Response\": \"True\"\n",
        "  }\n",
        "];\n",
        "\n",
        "// Only change code below this line\n",
        "\n",
        "const ratings = watchList.map(item =>({\n",
        "  title: item[\"Title\"],\n",
        "  rating : item[\"imdbRating\"]\n",
        "}))\n",
        "\n",
        "// Only change code above this line\n",
        "\n",
        "console.log(JSON.stringify(ratings));\n",
        "\n",
        "// [{\"title\":\"Inception\",\"rating\":\"8.8\"},{\"title\":\"Interstellar\",\"rating\":\"8.6\"},{\"title\":\"The Dark Knight\",\"rating\":\"9.0\"},{\"title\":\"Batman Begins\",\"rating\":\"8.3\"},{\"title\":\"Avatar\",\"rating\":\"7.9\"}]"
      ],
      "metadata": {
        "id": "JJah-BDntxhg"
      },
      "execution_count": null,
      "outputs": []
    },
    {
      "cell_type": "markdown",
      "source": [
        "# Implement map on a Prototype\n",
        "As you have seen from applying Array.prototype.map(), or simply map() earlier, the map method returns an array of the same length as the one it was called on. It also doesn't alter the original array, as long as its callback function doesn't.\n",
        "\n",
        "In other words, map is a pure function, and its output depends solely on its inputs. Plus, it takes another function as its argument.\n",
        "\n",
        "You might learn a lot about the map method if you implement your own version of it. It is recommended you use a for loop or Array.prototype.forEach()."
      ],
      "metadata": {
        "id": "USdX6y0Jt8Bp"
      }
    },
    {
      "cell_type": "code",
      "source": [
        "Array.prototype.myMap = function(callback) {\n",
        "  const newArray = [];\n",
        "  // Only change code below this line\n",
        "\n",
        "  // Only change code above this line\n",
        "  return newArray;\n",
        "};"
      ],
      "metadata": {
        "id": "qnYdgj-Mt-z1"
      },
      "execution_count": null,
      "outputs": []
    },
    {
      "cell_type": "markdown",
      "source": [
        "Write your own Array.prototype.myMap(), which should behave exactly like Array.prototype.map(). You should not use the built-in map method. The Array instance can be accessed in the myMap method using this."
      ],
      "metadata": {
        "id": "w2poBOQ8uABj"
      }
    },
    {
      "cell_type": "code",
      "source": [
        "Array.prototype.myMap = function(callback) {\n",
        "  const newArray = [];\n",
        "  // Only change code below this line\n",
        "  for(let i=0;i<this.length;i++){\n",
        "    newArray.push(callback(this[i],i,this))\n",
        "  }\n",
        "  // Only change code above this line\n",
        "  return newArray;\n",
        "};\n"
      ],
      "metadata": {
        "id": "3oQd40oauBg6"
      },
      "execution_count": null,
      "outputs": []
    },
    {
      "cell_type": "code",
      "source": [
        "// Solution 2\n",
        "\n",
        "Array.prototype.myMap = function (callback) {\n",
        "  const newArray = [];\n",
        "  // Only change code below this line\n",
        "  this.forEach((element, index, originalArr) =>\n",
        "    newArray.push(callback(element, index, originalArr))\n",
        "  );\n",
        "  // Only change code above this line\n",
        "  return newArray;\n",
        "};"
      ],
      "metadata": {
        "id": "wiKGLh_TuwN5"
      },
      "execution_count": null,
      "outputs": []
    }
  ]
}